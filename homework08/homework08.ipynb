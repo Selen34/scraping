{
 "cells": [
  {
   "cell_type": "code",
   "execution_count": 1,
   "metadata": {},
   "outputs": [],
   "source": [
    "import pandas as pd\n",
    "import numpy as np\n",
    "from matplotlib import pyplot as plt"
   ]
  },
  {
   "cell_type": "code",
   "execution_count": 2,
   "metadata": {},
   "outputs": [],
   "source": [
    "%matplotlib inline"
   ]
  },
  {
   "cell_type": "code",
   "execution_count": 16,
   "metadata": {},
   "outputs": [],
   "source": [
    "#data = pd.read_csv('opendata.csv')\n",
    "data = pd.read_excel('import.xlsx')"
   ]
  },
  {
   "cell_type": "code",
   "execution_count": 17,
   "metadata": {},
   "outputs": [
    {
     "data": {
      "text/plain": [
       "Index(['name', 'region', 'date', 'value'], dtype='object')"
      ]
     },
     "execution_count": 17,
     "metadata": {},
     "output_type": "execute_result"
    }
   ],
   "source": [
    "data.columns"
   ]
  },
  {
   "cell_type": "code",
   "execution_count": 21,
   "metadata": {},
   "outputs": [],
   "source": [
    "data['date'] = pd.to_datetime(data['date'])"
   ]
  },
  {
   "cell_type": "code",
   "execution_count": 40,
   "metadata": {},
   "outputs": [],
   "source": [
    "query_type = np.array(data['name'].unique())\n",
    "query_region = np.array(data['region'].unique())"
   ]
  },
  {
   "cell_type": "code",
   "execution_count": 38,
   "metadata": {},
   "outputs": [
    {
     "name": "stdout",
     "output_type": "stream",
     "text": [
      "Доступный интервал дат: от 2013-01-15 00:00:00 до 2019-01-15 00:00:00\n"
     ]
    }
   ],
   "source": [
    "print('Доступный интервал дат: от', data.date.min(), 'до', data.date.max())"
   ]
  },
  {
   "cell_type": "code",
   "execution_count": 44,
   "metadata": {},
   "outputs": [
    {
     "name": "stdout",
     "output_type": "stream",
     "text": [
      "Введите начальную дату\n",
      "2014-01-01\n"
     ]
    }
   ],
   "source": [
    "print('Введите начальную дату')\n",
    "begin_date = input()"
   ]
  },
  {
   "cell_type": "code",
   "execution_count": 45,
   "metadata": {},
   "outputs": [
    {
     "name": "stdout",
     "output_type": "stream",
     "text": [
      "Введите конечную дату\n",
      "2019-01-01\n"
     ]
    }
   ],
   "source": [
    "print('Введите конечную дату')\n",
    "end_date = input()"
   ]
  },
  {
   "cell_type": "code",
   "execution_count": 42,
   "metadata": {},
   "outputs": [
    {
     "name": "stdout",
     "output_type": "stream",
     "text": [
      "Тип данных\n",
      "0 Количество заявок на потребительские кредиты\n",
      "1 Средняя сумма заявки на потребительский кредит\n",
      "2 Количество заявок на ипотечные кредиты\n",
      "3 Средняя сумма заявки на ипотечный кредит\n",
      "4 Количество новых депозитов\n",
      "5 Средняя сумма нового депозита\n",
      "6 Средняя зарплата\n",
      "7 Средняя пенсия\n",
      "8 В среднем руб. на текущем счете на человека\n",
      "9 В среднем депозитов в руб. на человека\n",
      "10 Средние расходы по картам\n",
      "11 Средний чек в формате Фастфуд\n",
      "12 Средний чек в формате Ресторан\n",
      "13 Средние траты в ресторане фастфуд\n",
      "14 Средние траты в ресторане\n"
     ]
    }
   ],
   "source": [
    "print('Тип данных')\n",
    "for i in range(len(query_type)):\n",
    "    print(i, query_type[i])"
   ]
  },
  {
   "cell_type": "code",
   "execution_count": 46,
   "metadata": {},
   "outputs": [
    {
     "name": "stdout",
     "output_type": "stream",
     "text": [
      "Введите тип\n",
      "6\n"
     ]
    }
   ],
   "source": [
    "print('Введите тип')\n",
    "data_type = input()"
   ]
  },
  {
   "cell_type": "code",
   "execution_count": 48,
   "metadata": {},
   "outputs": [
    {
     "name": "stdout",
     "output_type": "stream",
     "text": [
      "Выбрали: Средняя зарплата\n"
     ]
    }
   ],
   "source": [
    "data_type = query_type[int(data_type)]\n",
    "print('Выбрали:', data_type)"
   ]
  },
  {
   "cell_type": "code",
   "execution_count": 43,
   "metadata": {},
   "outputs": [
    {
     "name": "stdout",
     "output_type": "stream",
     "text": [
      "Регион\n",
      "0 Россия\n",
      "1 Алтайский край\n",
      "2 Амурская область\n",
      "3 Архангельская область\n",
      "4 Астраханская область\n",
      "5 Белгородская область\n",
      "6 Брянская область\n",
      "7 Владимирская область\n",
      "8 Волгоградская область\n",
      "9 Вологодская область\n",
      "10 Воронежская область\n",
      "11 Еврейская автономная область\n",
      "12 Забайкальский край\n",
      "13 Ивановская область\n",
      "14 Иркутская область\n",
      "15 Кабардино-Балкарская Республика\n",
      "16 Калининградская область\n",
      "17 Калужская область\n",
      "18 Камчатский край\n",
      "19 Кемеровская область\n",
      "20 Кировская область\n",
      "21 Костромская область\n",
      "22 Краснодарский край\n",
      "23 Красноярский край\n",
      "24 Курганская область\n",
      "25 Курская область\n",
      "26 Ленинградская область\n",
      "27 Липецкая область\n",
      "28 Магаданская область\n",
      "29 Москва\n",
      "30 Московская область\n",
      "31 Мурманская область\n",
      "32 Ненецкий автономный округ\n",
      "33 Нижегородская область\n",
      "34 Новгородская область\n",
      "35 Новосибирская область\n",
      "36 Омская область\n",
      "37 Оренбургская область\n",
      "38 Орловская область\n",
      "39 Пензенская область\n",
      "40 Пермский край\n",
      "41 Приморский край\n",
      "42 Псковская область\n",
      "43 Республика Адыгея\n",
      "44 Республика Алтай (Горный Алтай)\n",
      "45 Республика Башкортостан\n",
      "46 Республика Бурятия\n",
      "47 Республика Дагестан\n",
      "48 Республика Ингушетия\n",
      "49 Республика Калмыкия\n",
      "50 Республика Карачаево-Черкессия\n",
      "51 Республика Карелия\n",
      "52 Республика Коми\n",
      "53 Республика Марий Эл\n",
      "54 Республика Мордовия\n",
      "55 Республика Саха (Якутия)\n",
      "56 Республика Северная Осетия-Алания\n",
      "57 Республика Татарстан\n",
      "58 Республика Тыва\n",
      "59 Республика Хакасия\n",
      "60 Ростовская область\n",
      "61 Рязанская область\n",
      "62 Самарская область\n",
      "63 Санкт-Петербург\n",
      "64 Саратовская область\n",
      "65 Сахалинская область\n",
      "66 Свердловская область\n",
      "67 Смоленская область\n",
      "68 Ставропольский край\n",
      "69 Тамбовская область\n",
      "70 Тверская область\n",
      "71 Томская область\n",
      "72 Тульская область\n",
      "73 Тюменская область\n",
      "74 Удмуртская Республика\n",
      "75 Ульяновская область\n",
      "76 Хабаровский край\n",
      "77 Ханты-Мансийский автономный округ — Югра\n",
      "78 Челябинская область\n",
      "79 Чеченская Республика\n",
      "80 Чувашская Республика\n",
      "81 Чукотский автономный округ\n",
      "82 Ямало-Ненецкий автономный округ\n",
      "83 Ярославская область\n"
     ]
    }
   ],
   "source": [
    "print('Регион')\n",
    "for i in range(len(query_region)):\n",
    "    print(i, query_region[i])"
   ]
  },
  {
   "cell_type": "code",
   "execution_count": 49,
   "metadata": {},
   "outputs": [
    {
     "name": "stdout",
     "output_type": "stream",
     "text": [
      "Введите регион\n",
      "29\n"
     ]
    }
   ],
   "source": [
    "print('Введите регион')\n",
    "region_type = input()"
   ]
  },
  {
   "cell_type": "code",
   "execution_count": 51,
   "metadata": {},
   "outputs": [
    {
     "name": "stdout",
     "output_type": "stream",
     "text": [
      "Выбрали: Москва\n"
     ]
    }
   ],
   "source": [
    "region_type = query_region[int(region_type)]\n",
    "print('Выбрали:', region_type)"
   ]
  },
  {
   "cell_type": "code",
   "execution_count": 52,
   "metadata": {},
   "outputs": [
    {
     "name": "stdout",
     "output_type": "stream",
     "text": [
      "Входные данные: 2014-01-01 2019-01-01 Средняя зарплата Москва\n"
     ]
    }
   ],
   "source": [
    "print('Входные данные:', begin_date, end_date, data_type, region_type)"
   ]
  },
  {
   "cell_type": "code",
   "execution_count": 62,
   "metadata": {},
   "outputs": [],
   "source": [
    "query = data.query(f'name == \"{data_type}\" & region == \"{region_type}\" & date >= \"{begin_date}\" & date <= \"{end_date}\"')"
   ]
  },
  {
   "cell_type": "code",
   "execution_count": 68,
   "metadata": {},
   "outputs": [
    {
     "data": {
      "text/plain": [
       "<matplotlib.axes._subplots.AxesSubplot at 0x259819a5dd8>"
      ]
     },
     "execution_count": 68,
     "metadata": {},
     "output_type": "execute_result"
    },
    {
     "data": {
      "image/png": "[encoded data removed]",
      "text/plain": [
       "<Figure size 432x288 with 1 Axes>"
      ]
     },
     "metadata": {
      "needs_background": "light"
     },
     "output_type": "display_data"
    }
   ],
   "source": [
    "query.plot(x='date', y='value')"
   ]
  },
  {
   "cell_type": "code",
   "execution_count": null,
   "metadata": {},
   "outputs": [],
   "source": []
  }
 ],
 "metadata": {
  "kernelspec": {
   "display_name": "Python 3",
   "language": "python",
   "name": "python3"
  },
  "language_info": {
   "codemirror_mode": {
    "name": "ipython",
    "version": 3
   },
   "file_extension": ".py",
   "mimetype": "text/x-python",
   "name": "python",
   "nbconvert_exporter": "python",
   "pygments_lexer": "ipython3",
   "version": "3.7.3"
  }
 },
 "nbformat": 4,
 "nbformat_minor": 2
}
