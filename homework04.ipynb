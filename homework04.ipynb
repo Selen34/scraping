{
 "cells": [
  {
   "cell_type": "markdown",
   "metadata": {},
   "source": [
    "Написать приложение, которое собирает основные новости с сайтов mail.ru, lenta.ru, yandex.news\n",
    "Для парсинга использовать xpath. Структура данных должна содержать:\n",
    "* название источника,\n",
    "* наименование новости,\n",
    "* ссылку на новость,\n",
    "* дата публикации"
   ]
  },
  {
   "cell_type": "code",
   "execution_count": 30,
   "metadata": {},
   "outputs": [],
   "source": [
    "from pymongo import MongoClient\n",
    "from pymongo import ASCENDING\n",
    "from pymongo import DESCENDING\n",
    "from hashlib import md5\n",
    "from pprint import pprint\n",
    "from lxml import html\n",
    "from datetime import datetime, timedelta\n",
    "import requests\n",
    "import json\n",
    "import time\n",
    "import random\n",
    "import re"
   ]
  },
  {
   "cell_type": "code",
   "execution_count": 2,
   "metadata": {},
   "outputs": [],
   "source": [
    "def initDB(name):\n",
    "    client = MongoClient('localhost', 27017)\n",
    "    return client[name]"
   ]
  },
  {
   "cell_type": "code",
   "execution_count": 3,
   "metadata": {},
   "outputs": [],
   "source": [
    "def saveRow(row, client):\n",
    "    collection = client['news']\n",
    "    collection.insert_one(row)"
   ]
  },
  {
   "cell_type": "code",
   "execution_count": 4,
   "metadata": {},
   "outputs": [],
   "source": [
    "def printRows(client, limit=10):\n",
    "    collection = client['news']\n",
    "    for item in collection.find().limit(limit):\n",
    "        pprint(item)"
   ]
  },
  {
   "cell_type": "code",
   "execution_count": 5,
   "metadata": {},
   "outputs": [],
   "source": [
    "def getRoot(url):\n",
    "    uagent = \"Mozilla/5.0 (Windows NT 10.0; Win64; x64) AppleWebKit/537.36 (KHTML, like Gecko) Chrome/79.0.3945.88 Safari/537.36\"\n",
    "    root = None\n",
    "    try:\n",
    "        root = html.fromstring(requests.get(url, headers = {'user-agent': uagent}).text)\n",
    "    except Exception as e:\n",
    "        print(e)\n",
    "    return root"
   ]
  },
  {
   "cell_type": "code",
   "execution_count": 6,
   "metadata": {},
   "outputs": [],
   "source": [
    "def getFromMailPage(url):\n",
    "    page = getRoot(url)\n",
    "    article = page.xpath(\"//div[contains(@class, 'breadcrumbs')]\")\n",
    "    date = None\n",
    "    source = None\n",
    "    if len(article) > 0:\n",
    "        article = article[0]\n",
    "        date = article.xpath(\".//span[@datetime]/@datetime\")\n",
    "        if len(date) > 0:\n",
    "            date = date[0]\n",
    "            date = datetime.strptime(date, \"%Y-%m-%dT%H:%M:%S%z\")\n",
    "        else:\n",
    "            date = None\n",
    "        source = article.xpath(\".//span[@class='link__text']/text()\")\n",
    "        if len(source) > 0:\n",
    "            source = source[0]\n",
    "        else:\n",
    "            source = None\n",
    "    return { 'date': date, 'source': source }"
   ]
  },
  {
   "cell_type": "code",
   "execution_count": 7,
   "metadata": {},
   "outputs": [],
   "source": [
    "def loadFromMail(db):\n",
    "    print('LOADING FROM MAIL.RU...')\n",
    "    mailru = getRoot('https://mail.ru/?from=m')\n",
    "    news_block = mailru.xpath(\"//a[@class='list__item']\")\n",
    "    for item in news_block:\n",
    "        href = item.xpath(\"./@href\")\n",
    "        if len(href) > 0:\n",
    "            href = href[0]\n",
    "        else:\n",
    "            href = None\n",
    "        title = item.xpath(\".//span[@class='list__item__title']/text()\")\n",
    "        if len(title) > 0:\n",
    "            title = title[0]\n",
    "            title = title.replace('\\xa0', ' ')\n",
    "        row = { 'title': title, 'url': href }\n",
    "        if href:\n",
    "            tmp = getFromMailPage(href)\n",
    "            row['date'] = tmp['date']\n",
    "            row['source'] = tmp['source']\n",
    "            time.sleep(random.randint(1, 2))\n",
    "        saveRow(row, db)\n",
    "    print('LOADED')"
   ]
  },
  {
   "cell_type": "code",
   "execution_count": 8,
   "metadata": {},
   "outputs": [],
   "source": [
    "def getFromLentaPage(url):\n",
    "    page = getRoot(url)\n",
    "    header = page.xpath(\"//div[contains(@class, 'b-topic__header')]\")\n",
    "    if len(header) > 0:\n",
    "        header = header[0]\n",
    "    else:\n",
    "        return { 'date': None, 'title': None, 'source': 'lenta.ru', 'url': url }\n",
    "    date = header.xpath(\".//div[contains(@class,'b-topic__info')]/time[@datetime]/@datetime\")\n",
    "    if len(date) > 0:\n",
    "        date = date[0]\n",
    "        date = datetime.strptime(date, \"%Y-%m-%dT%H:%M:%S%z\")\n",
    "    else:\n",
    "        date = None\n",
    "    title = header.xpath(\".//*[contains(@itemprop, 'headline')]/text()\")\n",
    "    if len(title) > 0:\n",
    "        title = title[0]\n",
    "        title = title.replace('\\xa0', ' ')\n",
    "    else:\n",
    "        title = None\n",
    "    return { 'date': date, 'title': title, 'source': 'lenta.ru', 'url': url }"
   ]
  },
  {
   "cell_type": "code",
   "execution_count": 9,
   "metadata": {},
   "outputs": [],
   "source": [
    "def loadFromLenta(db):\n",
    "    print('LOADING FROM LENTA...')\n",
    "    lenta = getRoot('https://lenta.ru')\n",
    "    pages = lenta.xpath(\"//div[contains(@class,'item')]/a[contains(@href,'news')]/@href\")\n",
    "    pages = map(lambda item: f'https://lenta.ru{item}', pages)\n",
    "    for page in pages:\n",
    "        row = getFromLentaPage(page)\n",
    "        saveRow(row, db)\n",
    "        time.sleep(random.randint(1,2))\n",
    "    print('LOADED')"
   ]
  },
  {
   "cell_type": "code",
   "execution_count": 10,
   "metadata": {},
   "outputs": [],
   "source": [
    "def getDateAndSource(substring):\n",
    "    match = re.search(r'вчера.+', substring)\n",
    "    date = None\n",
    "    source = None\n",
    "    if match:\n",
    "        source = re.sub(r'вчера.+', '', substring)\n",
    "        date = match.group()\n",
    "        date = re.search(r'\\d{2}:\\d{2}', date)\n",
    "        date = date.group()\n",
    "        date = f\"{datetime.strftime(datetime.now() - timedelta(1), '%Y-%m-%d')}T{date}:00+03:00\"\n",
    "        date = datetime.strptime(date, \"%Y-%m-%dT%H:%M:%S%z\")\n",
    "    else:\n",
    "        match = re.search(r'\\d{1,2}.+\\d{2}:\\d{2}', substring)\n",
    "        if match:\n",
    "            source = re.sub(r'\\d{1,2}.+\\d{2}:\\d{2}', '', substring)\n",
    "            date = match.group()\n",
    "            mlist = [ 'января', 'февраля','марта','апреля',\n",
    "                     'мая', 'июня','июля','августа',\n",
    "                     'сентрября','октября','ноября','декабря' ]\n",
    "            month = 1\n",
    "            for m in mlist:\n",
    "                if re.search(m, date):\n",
    "                    break\n",
    "                month += 1\n",
    "            day = re.search(r'^\\d{1,2}', date).group()\n",
    "            if int(day) < 10:\n",
    "                day = f'0{day}'\n",
    "            if month < 10:\n",
    "                month = f'0{month}'\n",
    "            year = datetime.strftime(datetime.now(), '%Y')\n",
    "            dtime = re.search(r'\\d{2}:\\d{2}$', date).group()\n",
    "            dtime = f'{dtime}:00+03:00'\n",
    "            date = f'{year}-{month}-{day}T{dtime}'\n",
    "        else:\n",
    "            source = re.sub(r'\\d{2}:\\d{2}', '', substring)\n",
    "            dtime = re.search(r'\\d{2}:\\d{2}', substring).group()\n",
    "            hour =  re.search(r'^\\d{2}', dtime).group()\n",
    "            minute =  re.search(r'\\d{2}$', dtime).group()\n",
    "            now = datetime.now()\n",
    "            now.replace(minute=int(minute))\n",
    "            now.replace(hour=int(hour))\n",
    "            date = now\n",
    "    return { 'source': source, 'date': date }"
   ]
  },
  {
   "cell_type": "code",
   "execution_count": 11,
   "metadata": {},
   "outputs": [],
   "source": [
    "def getFromYandexItem(item):\n",
    "    title = item.xpath(\".//*[@class='story__title']\")\n",
    "    if len(title) > 0:\n",
    "        title = title[0]\n",
    "    else:\n",
    "        return None\n",
    "    href = title.xpath(\".//a[contains(@class,'link')]/@href\")\n",
    "    if len(href) > 0:\n",
    "        href = href[0]\n",
    "        href = f'https://yandex.ru{href}'\n",
    "    text = title.xpath(\".//a[contains(@class,'link')]/text()\")\n",
    "    if len(text) > 0:\n",
    "        text = text[0]\n",
    "    src = item.xpath(\".//div[@class='story__date']/text()\")\n",
    "    source = None\n",
    "    date = None\n",
    "    if len(src) > 0:\n",
    "        src = getDateAndSource(src[0])\n",
    "        source = src['source']\n",
    "        date = src['date']\n",
    "    return { 'date': date, 'title': text, 'source': source, 'url': href }"
   ]
  },
  {
   "cell_type": "code",
   "execution_count": 12,
   "metadata": {},
   "outputs": [],
   "source": [
    "def loadFromYandex(db):\n",
    "    print('LOADING FROM YANDEX...')\n",
    "    yandex = getRoot('https://yandex.ru/news')\n",
    "    items = yandex.xpath(\"//*[@class='stories-set__item']\")\n",
    "    for item in items:\n",
    "        row = getFromYandexItem(item)\n",
    "        saveRow(row, db)\n",
    "    print('LOADED')"
   ]
  },
  {
   "cell_type": "code",
   "execution_count": 13,
   "metadata": {},
   "outputs": [],
   "source": [
    "client = initDB('news')"
   ]
  },
  {
   "cell_type": "code",
   "execution_count": 14,
   "metadata": {},
   "outputs": [
    {
     "name": "stdout",
     "output_type": "stream",
     "text": [
      "LOADING FROM YANDEX...\n",
      "LOADED\n"
     ]
    }
   ],
   "source": [
    "loadFromYandex(client)"
   ]
  },
  {
   "cell_type": "code",
   "execution_count": 15,
   "metadata": {},
   "outputs": [
    {
     "name": "stdout",
     "output_type": "stream",
     "text": [
      "LOADING FROM LENTA...\n",
      "LOADED\n"
     ]
    }
   ],
   "source": [
    "loadFromLenta(client)"
   ]
  },
  {
   "cell_type": "code",
   "execution_count": 16,
   "metadata": {},
   "outputs": [
    {
     "name": "stdout",
     "output_type": "stream",
     "text": [
      "LOADING FROM MAIL.RU...\n",
      "LOADED\n"
     ]
    }
   ],
   "source": [
    "loadFromMail(client)"
   ]
  },
  {
   "cell_type": "markdown",
   "metadata": {},
   "source": [
    "Проверим что все загрузилось в БД:"
   ]
  },
  {
   "cell_type": "code",
   "execution_count": 33,
   "metadata": {},
   "outputs": [
    {
     "name": "stdout",
     "output_type": "stream",
     "text": [
      "{'_id': ObjectId('5e1a52c3f40bd4b52ad00abb'),\n",
      " 'date': datetime.datetime(2020, 1, 12, 1, 57, 7, 84000),\n",
      " 'source': 'Вести.Ru ',\n",
      " 'title': 'Маршал Хафтар объявил о прекращении боевых действий в Ливии',\n",
      " 'url': 'https://yandex.ru/news/story/Marshal_KHaftar_obyavil_o_prekrashhenii_boevykh_dejstvij_v_Livii--000398f40637e7583a7033afca9d27d4?lr=213&lang=ru&stid=r9l56MIjaMKhTLn0PanL&persistent_id=84548103&rubric=index&from=index'}\n",
      "{'_id': ObjectId('5e1a52c3f40bd4b52ad00abc'),\n",
      " 'date': datetime.datetime(2020, 1, 12, 1, 57, 7, 101000),\n",
      " 'source': 'Известия ',\n",
      " 'title': 'Турчинов призвал наказать Россию за сбитый в Иране Boeing',\n",
      " 'url': 'https://yandex.ru/news/story/Turchinov_prizval_nakazat_Rossiyu_za_sbityj_v_Irane_Boeing--8f4f999ed3c05a1c4801247da2acea20?lr=213&lang=ru&stid=9yoYR6dBsA9OLgUKEKXp&persistent_id=84517637&rubric=index&from=index'}\n",
      "{'_id': ObjectId('5e1a52c3f40bd4b52ad00abd'),\n",
      " 'date': datetime.datetime(2020, 1, 12, 1, 57, 7, 102000),\n",
      " 'source': 'РИА Новости ',\n",
      " 'title': 'Зеленский заявил, что виновники авиакатастрофы в Иране «не '\n",
      "          'отвертятся»',\n",
      " 'url': 'https://yandex.ru/news/story/Zelenskij_zayavil_chto_vinovniki_aviakatastrofy_v_Irane_ne_otvertyatsya--b3954679c319ea8e20b3900561a09506?lr=213&lang=ru&stid=OMgW7kbnJgGMdysjtsGR&persistent_id=84541675&rubric=index&from=index'}\n",
      "{'_id': ObjectId('5e1a52c3f40bd4b52ad00abe'),\n",
      " 'date': datetime.datetime(2020, 1, 12, 1, 57, 7, 103000),\n",
      " 'source': 'BFM.ru ',\n",
      " 'title': 'Андрей Рублев выиграл турнир ATP в Дохе',\n",
      " 'url': 'https://yandex.ruhttps://yandex.ru/sport/story/Andrej_Rublev_vyigral_turnir_ATP_v_Dokhe--a0a98d0d6b51f8b2dd35bc7bf927498b?lr=213&lang=ru&stid=FDwBZEcodBzbRnkAAtBR&persistent_id=84541529&rubric=index&from=index'}\n",
      "{'_id': ObjectId('5e1a52c3f40bd4b52ad00abf'),\n",
      " 'date': datetime.datetime(2020, 1, 11, 20, 36),\n",
      " 'source': 'Москва 24 ',\n",
      " 'title': 'Желтый уровень опасности объявлен в столичном регионе до 14 января',\n",
      " 'url': 'https://yandex.ru/news/story/ZHeltyj_uroven_opasnosti_obyavlen_v_stolichnom_regione_do_14_yanvarya--d968b154a07fd11c1da3c41ded3418ff?lr=213&lang=ru&stid=UadmdgpUTB9Te5TSJD1l&persistent_id=84167509&rubric=Moscow&from=index'}\n"
     ]
    }
   ],
   "source": [
    "printRows(client, 5)"
   ]
  },
  {
   "cell_type": "markdown",
   "metadata": {},
   "source": [
    "**Всего записей:**"
   ]
  },
  {
   "cell_type": "code",
   "execution_count": 22,
   "metadata": {},
   "outputs": [
    {
     "name": "stdout",
     "output_type": "stream",
     "text": [
      "119\n"
     ]
    }
   ],
   "source": [
    "collection = client['news']\n",
    "print(collection.count_documents({}))"
   ]
  },
  {
   "cell_type": "markdown",
   "metadata": {},
   "source": [
    "**Посмотрим что в вдругих записях, сделав сортировку по дате:**"
   ]
  },
  {
   "cell_type": "code",
   "execution_count": 31,
   "metadata": {},
   "outputs": [
    {
     "name": "stdout",
     "output_type": "stream",
     "text": [
      "{'_id': ObjectId('5e1a5304f40bd4b52ad00b21'),\n",
      " 'date': None,\n",
      " 'source': None,\n",
      " 'title': '3 удивительных примера использования Microsoft Excel',\n",
      " 'url': 'https://r.mail.ru/n318027693?&test_id=63&rnd=716408491'}\n",
      "{'_id': ObjectId('5e1a5306f40bd4b52ad00b22'),\n",
      " 'date': None,\n",
      " 'source': None,\n",
      " 'title': 'Новинка Apple удивит возможностями',\n",
      " 'url': 'https://r.mail.ru/n318027694?&test_id=63&rnd=716408491'}\n",
      "{'_id': ObjectId('5e1a5308f40bd4b52ad00b23'),\n",
      " 'date': None,\n",
      " 'source': None,\n",
      " 'title': 'Почему борьба за экологию — сплошной фейк',\n",
      " 'url': 'https://r.mail.ru/n317956428?&test_id=63&rnd=716408491'}\n",
      "{'_id': ObjectId('5e1a530af40bd4b52ad00b24'),\n",
      " 'date': None,\n",
      " 'source': None,\n",
      " 'title': 'Новый топовый Xiaomi полностью раскрыт',\n",
      " 'url': 'https://r.mail.ru/n317955908?&test_id=63&rnd=716408491'}\n",
      "{'_id': ObjectId('5e1a530bf40bd4b52ad00b25'),\n",
      " 'date': None,\n",
      " 'source': None,\n",
      " 'title': '«Качельки» громкости уходят в прошлое. Что придет на замену',\n",
      " 'url': 'https://r.mail.ru/n317932675?&test_id=63&rnd=716408491'}\n",
      "{'_id': ObjectId('5e1a530df40bd4b52ad00b26'),\n",
      " 'date': None,\n",
      " 'source': None,\n",
      " 'title': 'Новое видео МиГ-31 восхитило соцсети',\n",
      " 'url': 'https://r.mail.ru/n317967200?&test_id=63&rnd=716408491'}\n",
      "{'_id': ObjectId('5e1a5310f40bd4b52ad00b27'),\n",
      " 'date': None,\n",
      " 'source': None,\n",
      " 'title': 'Российский космонавт показал горящую Австралию (фото)',\n",
      " 'url': 'https://r.mail.ru/n317969793?&test_id=63&rnd=716408491'}\n",
      "{'_id': ObjectId('5e1a52c3f40bd4b52ad00aee'),\n",
      " 'date': '2020-01-10T13:00:00+03:00',\n",
      " 'source': 'Forbes ',\n",
      " 'title': '«Яндекс» может запустить виртуального оператора связи',\n",
      " 'url': 'https://yandex.ru/news/story/YAndeks_mozhet_zapustit_virtualnogo_operatora_svyazi--f3bab002ba28917e8a79683b044d6a5b?lr=213&lang=ru&stid=ldRCPAFb78x-LDm07NFg&persistent_id=84239223&rubric=computers&from=index'}\n",
      "{'_id': ObjectId('5e1a52c3f40bd4b52ad00ae6'),\n",
      " 'date': '2020-01-10T21:59:00+03:00',\n",
      " 'source': 'Газета.Ru ',\n",
      " 'title': 'Агрессивные роды: СК предъявил обвинения главе роддома в Москве',\n",
      " 'url': 'https://yandex.ru/news/story/Agressivnye_rody_SK_predyavil_obvineniya_glave_roddoma_v_Moskve--6ecf72c61c339b38c5189b46efad3b3b?lr=213&lang=ru&stid=nqpmIyFTDYbkNVLTMwp1&persistent_id=84419399&rubric=incident&from=index'}\n",
      "{'_id': ObjectId('5e1a52c3f40bd4b52ad00ac1'),\n",
      " 'date': '2020-13-24T00:53:00+03:00',\n",
      " 'source': 'Москва ',\n",
      " 'title': 'Предстоящая ночь станет самой холодной с начала года в Москве',\n",
      " 'url': 'https://yandex.ru/news/story/Predstoyashhaya_noch_stanet_samoj_kholodnoj_s_nachala_goda_v_Moskve--9ad6588b08d7708aaf2fdf08fbcac0f4?lr=213&lang=ru&stid=mSuVtZUvsynn-jCN2jt9&persistent_id=84535966&rubric=Moscow&from=index'}\n",
      "{'_id': ObjectId('5e1a52c3f40bd4b52ad00af8'),\n",
      " 'date': '2020-13-24T01:33:00+03:00',\n",
      " 'source': 'RuNews',\n",
      " 'title': 'Volkswagen готовит новый бюджетный кроссовер для авторынка России',\n",
      " 'url': 'https://yandex.ru/news/story/Volkswagen_gotovit_novyj_byudzhetnyj_krossover_dlya_avtorynka_Rossii--80ef080e8d1207ed38c82b356738bd09?lr=213&lang=ru&stid=NTCJCYcaNzOZOT5UB-_k&persistent_id=84469162&rubric=auto&from=index'}\n",
      "{'_id': ObjectId('5e1a5316f40bd4b52ad00b2a'),\n",
      " 'date': datetime.datetime(2020, 1, 10, 6, 25, 56),\n",
      " 'source': 'Елена Нечаева',\n",
      " 'title': 'С чем носить водолазку, чтобы не выглядеть слишком повседневно',\n",
      " 'url': 'https://r.mail.ru/n317936507?&test_id=63&rnd=143535608'}\n",
      "{'_id': ObjectId('5e1a531af40bd4b52ad00b2c'),\n",
      " 'date': datetime.datetime(2020, 1, 10, 6, 43, 31),\n",
      " 'source': 'Александра Прокопко',\n",
      " 'title': '«Неузнаваемую» Наташу Королеву заподозрили в пластике',\n",
      " 'url': 'https://r.mail.ru/n317939096?&test_id=63&rnd=143535608'}\n",
      "{'_id': ObjectId('5e1a531cf40bd4b52ad00b2d'),\n",
      " 'date': datetime.datetime(2020, 1, 10, 9, 0, 12),\n",
      " 'source': 'Галина Глачева',\n",
      " 'title': '5 простых упражнений для красивой осанки',\n",
      " 'url': 'https://r.mail.ru/n317947093?&test_id=63&rnd=143535608'}\n",
      "{'_id': ObjectId('5e1a5301f40bd4b52ad00b20'),\n",
      " 'date': datetime.datetime(2020, 1, 10, 10, 50, 34),\n",
      " 'source': 'Новости',\n",
      " 'title': 'BMW, в которой был убит Тупак Шакур, продают за 1,6 млн долларов',\n",
      " 'url': 'https://r.mail.ru/n317951306?&test_id=63&rnd=172221172'}\n"
     ]
    }
   ],
   "source": [
    "for item in collection.find().sort('date', ASCENDING).limit(15):\n",
    "    pprint(item)"
   ]
  },
  {
   "cell_type": "markdown",
   "metadata": {},
   "source": [
    "в 7 записях из mail.ru не нашлись дата с источником, но в остальных (внизу) присутствуют - в целом, результат приемлемый"
   ]
  }
 ],
 "metadata": {
  "kernelspec": {
   "display_name": "Python 3",
   "language": "python",
   "name": "python3"
  },
  "language_info": {
   "codemirror_mode": {
    "name": "ipython",
    "version": 3
   },
   "file_extension": ".py",
   "mimetype": "text/x-python",
   "name": "python",
   "nbconvert_exporter": "python",
   "pygments_lexer": "ipython3",
   "version": "3.7.3"
  }
 },
 "nbformat": 4,
 "nbformat_minor": 2
}
