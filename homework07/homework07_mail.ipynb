{
 "cells": [
  {
   "cell_type": "code",
   "execution_count": 1,
   "metadata": {},
   "outputs": [],
   "source": [
    "from selenium import webdriver\n",
    "from selenium.webdriver.common.keys import Keys\n",
    "from selenium.webdriver.chrome.options import Options\n",
    "from selenium.webdriver.support.ui import WebDriverWait\n",
    "from selenium.webdriver.support import expected_conditions as EC\n",
    "from selenium.webdriver.common.by import By\n",
    "from selenium.webdriver.support.ui import Select"
   ]
  },
  {
   "cell_type": "code",
   "execution_count": 2,
   "metadata": {},
   "outputs": [],
   "source": [
    "from pymongo import MongoClient\n",
    "from pprint import pprint"
   ]
  },
  {
   "cell_type": "code",
   "execution_count": 3,
   "metadata": {},
   "outputs": [],
   "source": [
    "import time"
   ]
  },
  {
   "cell_type": "code",
   "execution_count": 4,
   "metadata": {},
   "outputs": [],
   "source": [
    "def initDB(name):\n",
    "    client = MongoClient('localhost', 27017)\n",
    "    return client[name]"
   ]
  },
  {
   "cell_type": "code",
   "execution_count": 5,
   "metadata": {},
   "outputs": [],
   "source": [
    "def saveRow(row, client):\n",
    "    collection = client['mail']\n",
    "    collection.insert_one(row)"
   ]
  },
  {
   "cell_type": "code",
   "execution_count": 6,
   "metadata": {},
   "outputs": [],
   "source": [
    "def printRows(client, limit=10):\n",
    "    collection = client['mail']\n",
    "    for item in collection.find().limit(limit):\n",
    "        pprint(item)"
   ]
  },
  {
   "cell_type": "code",
   "execution_count": 7,
   "metadata": {},
   "outputs": [],
   "source": [
    "def login(driver):\n",
    "    elem = driver.find_element_by_id(\"mailbox:login\")\n",
    "    elem.clear()\n",
    "    elem.send_keys('study.ai_172@mail.ru')\n",
    "    elem.send_keys(Keys.RETURN)\n",
    "    time.sleep(1)\n",
    "    elem = driver.find_element_by_id(\"mailbox:password\")\n",
    "    elem.clear()\n",
    "    elem.send_keys('NewPassword172')\n",
    "    elem.send_keys(Keys.RETURN)"
   ]
  },
  {
   "cell_type": "code",
   "execution_count": 8,
   "metadata": {},
   "outputs": [],
   "source": [
    "def saveLetter(driver, client):\n",
    "    author = driver.find_element_by_xpath(\"//div[@class='letter__author']/span\").get_attribute('title')\n",
    "    date = driver.find_element_by_xpath(\"//div[@class='letter__date']\").text\n",
    "    subject = driver.find_element_by_class_name('thread__subject').text\n",
    "    body = driver.find_element_by_xpath(\"//div[@class='letter-body']\").text\n",
    "    row = {'author': author, 'date': date, 'subject': subject, 'body': body}\n",
    "    saveRow(row, client)"
   ]
  },
  {
   "cell_type": "code",
   "execution_count": 9,
   "metadata": {},
   "outputs": [],
   "source": [
    "client = initDB('selenium')"
   ]
  },
  {
   "cell_type": "code",
   "execution_count": 18,
   "metadata": {},
   "outputs": [],
   "source": [
    "chrome_options = Options()\n",
    "#chrome_options.add_argument('start-maximized')\n",
    "#chrome_options.add_argument('--headless')\n",
    "driver = webdriver.Chrome(options=chrome_options)\n",
    "driver.get('https://mail.ru/')"
   ]
  },
  {
   "cell_type": "code",
   "execution_count": 19,
   "metadata": {},
   "outputs": [],
   "source": [
    "login(driver)"
   ]
  },
  {
   "cell_type": "code",
   "execution_count": 20,
   "metadata": {},
   "outputs": [],
   "source": [
    "#llc js-tooltip-direction_letter-bottom js-letter-list-item llc_pony-mode llc_normal\n",
    "first = WebDriverWait(driver, 10).until(\n",
    "    EC.presence_of_element_located((\n",
    "        By.CLASS_NAME, 'js-letter-list-item'\n",
    "    ))\n",
    ")\n",
    "driver.get(first.get_attribute('href'))"
   ]
  },
  {
   "cell_type": "code",
   "execution_count": 21,
   "metadata": {},
   "outputs": [],
   "source": [
    "driver.set_window_size(1080,1080)\n",
    "while True:\n",
    "    button_next = WebDriverWait(driver, 5).until(\n",
    "            EC.presence_of_element_located((\n",
    "                By.CLASS_NAME, 'button2_arrow-down'\n",
    "            ))\n",
    "        )\n",
    "    try:\n",
    "        saveLetter(driver, client)\n",
    "    except Exception as e:\n",
    "        print(e)\n",
    "    if button_next.get_attribute('disabled'):\n",
    "        break\n",
    "    button_next.click()"
   ]
  },
  {
   "cell_type": "code",
   "execution_count": 25,
   "metadata": {},
   "outputs": [
    {
     "name": "stdout",
     "output_type": "stream",
     "text": [
      "{'_id': ObjectId('5e2cda1f65cbb84caddb4e18'),\n",
      " 'author': 'security@e.mail.ru',\n",
      " 'body': '          Вход с нового устройства в аккаунт\\n'\n",
      "         ' study.ai_172@mail.ru \\n'\n",
      "         '      В аккаунт study.ai_172@mail.ru вошли с нового устройства.\\n'\n",
      "         '  Если вы этого не делали, измените пароль, чтобы обезопасить '\n",
      "         'аккаунт.\\n'\n",
      "         '  Время 26 января, 00:38\\n'\n",
      "         '  Устройство Microsoft Windows 10, Яндекс.Браузер, Москва, Россия\\n'\n",
      "         '  Посмотреть список устройств\\n'\n",
      "         '  Узнайте, как защитить аккаунт, на нашем сайте по безопасности.\\n'\n",
      "         '    Вы получили это письмо, потому что являетесь пользователем '\n",
      "         'Сервиса Почта Mail\\u200c.ru на основании Пользовательского '\n",
      "         'соглашения.\\n'\n",
      "         '  Copyright 2020 Mail\\u200c.ru Group, Москва — Все права защищены.\\n'\n",
      "         '  Служба поддержки\\n'\n",
      "         '   ',\n",
      " 'date': 'Сегодня, 0:38',\n",
      " 'subject': 'Вход с нового устройства в аккаунт'}\n",
      "{'_id': ObjectId('5e2cda2065cbb84caddb4e19'),\n",
      " 'author': 'security@e.mail.ru',\n",
      " 'body': '          Вход с нового устройства в аккаунт\\n'\n",
      "         ' study.ai_172@mail.ru \\n'\n",
      "         '      В аккаунт study.ai_172@mail.ru вошли с нового устройства.\\n'\n",
      "         '  Если вы этого не делали, измените пароль, чтобы обезопасить '\n",
      "         'аккаунт.\\n'\n",
      "         '  Время 26 января, 00:38\\n'\n",
      "         '  Устройство Microsoft Windows 10, Яндекс.Браузер, Москва, Россия\\n'\n",
      "         '  Посмотреть список устройств\\n'\n",
      "         '  Узнайте, как защитить аккаунт, на нашем сайте по безопасности.\\n'\n",
      "         '    Вы получили это письмо, потому что являетесь пользователем '\n",
      "         'Сервиса Почта Mail\\u200c.ru на основании Пользовательского '\n",
      "         'соглашения.\\n'\n",
      "         '  Copyright 2020 Mail\\u200c.ru Group, Москва — Все права защищены.\\n'\n",
      "         '  Служба поддержки\\n'\n",
      "         '   ',\n",
      " 'date': 'Сегодня, 0:38',\n",
      " 'subject': 'Вход с нового устройства в аккаунт'}\n",
      "{'_id': ObjectId('5e2cda2065cbb84caddb4e1a'),\n",
      " 'author': 'news@tproger.ru',\n",
      " 'body': 'Доступный интернет\\n'\n",
      "         'Кто-то дал «Известиям» предварительный список сервисов для программы '\n",
      "         '«Доступный интернет». С 1 марта трафик, полученный при работе с '\n",
      "         'утверждёнными сервисами, не будет тарифицироваться. В программу '\n",
      "         'предварительно вошли:\\n'\n",
      "         'государственные информационные ресурсы (портал «Госуслуги», сайты '\n",
      "         'министерств, федеральных служб и ведомств, а также региональных и '\n",
      "         'местных органов власти);\\n'\n",
      "         'социальные сети («ВКонтакте», «Одноклассники», «Мой мир», «В кругу '\n",
      "         'друзей», «Мир тесен», «Фотострана», «Дневник»);\\n'\n",
      "         'почтовые сервисы (Яндекс.Почта, Почта Mail.Ru, Почта KM.RU.);\\n'\n",
      "         'прочие (тут пока только мессенджер Bip).\\n'\n",
      "         'Список не окончательный, Минцифры это подчеркнуло. Пока министерство '\n",
      "         'обсуждает с операторами объёмы трафика.\\n'\n",
      "         'Недоступные фото\\n'\n",
      "         'В продолжение истории про популярный сервис распознавания лиц '\n",
      "         'Clearview AI, который так славно дружит с правоохранителями и '\n",
      "         'спецслужбами США и других стран. BBC News передаёт, что Twitter '\n",
      "         'потребовал у компании прекратить сбор данных с её сервиса и удалить '\n",
      "         'уже собранное. Издание приводит цитату из политики соглашения с '\n",
      "         'разработчиками:\\n'\n",
      "         '«Информация, полученная из контента Twitter, не может '\n",
      "         'использоваться, показываться, распространяться или каким-либо иным '\n",
      "         'образом предоставляться любому субъекту государственного сектора для '\n",
      "         'целей наблюдения».\\n'\n",
      "         'Facebook и Youtube насчёт своих данных пока молчат.\\n'\n",
      "         'Clearview AI успела собрать три миллиарда изображений и видео, по '\n",
      "         'которым можно идентифицировать людей, в том числе из разных '\n",
      "         'соцсетей. На требование Twitter компания пока не ответила.\\n'\n",
      "         'Официально недоступная почта\\n'\n",
      "         'Роскомнадзор внёс в реестр запрещённых почтовый сервис Startmail, '\n",
      "         'потому что с него рассылались ложные сообщения о минированиях. '\n",
      "         'Startmail не предоставила по запросу российских властей данных об '\n",
      "         'аккаунтах, с которых проходили рассылки, и ведомство приняло решение '\n",
      "         'заблокировать сервис вообще. В реестр попали все 83 поддомена и на '\n",
      "         'всякий случай 24 IP-адреса. РКН надеется, что так может «затруднить '\n",
      "         'осуществление таких действий в дальнейшем и существенно снизить их '\n",
      "         'масштаб».\\n'\n",
      "         'У Филиппа Кулина, автора Telegram-канала «Эшер II», по этому поводу '\n",
      "         'немного пригорело, и он пояснил, почему так нельзя и, вообще, '\n",
      "         'блокировка не сработает. И намекнул, что почтовые сервера отправки '\n",
      "         'писем тоже надо выявлять, иначе письма с сервиса продолжат '\n",
      "         'приходить.\\n'\n",
      "         '____________\\n'\n",
      "         'Катя\\n'\n",
      "         'Поделиться\\n'\n",
      "         'Твитнуть\\n'\n",
      "         'Переслать\\n'\n",
      "         'Вы получаете эти письма, потому что подписались на рассылку '\n",
      "         'Tproger.\\n'\n",
      "         'Отписаться от рассылки.',\n",
      " 'date': '24 января, 11:21',\n",
      " 'subject': 'Обзор IT-новостей 24 января'}\n"
     ]
    }
   ],
   "source": [
    "printRows(client, 3)"
   ]
  },
  {
   "cell_type": "code",
   "execution_count": 24,
   "metadata": {},
   "outputs": [],
   "source": [
    "driver.quit()"
   ]
  },
  {
   "cell_type": "code",
   "execution_count": null,
   "metadata": {},
   "outputs": [],
   "source": []
  }
 ],
 "metadata": {
  "kernelspec": {
   "display_name": "Python 3",
   "language": "python",
   "name": "python3"
  },
  "language_info": {
   "codemirror_mode": {
    "name": "ipython",
    "version": 3
   },
   "file_extension": ".py",
   "mimetype": "text/x-python",
   "name": "python",
   "nbconvert_exporter": "python",
   "pygments_lexer": "ipython3",
   "version": "3.7.3"
  }
 },
 "nbformat": 4,
 "nbformat_minor": 2
}
