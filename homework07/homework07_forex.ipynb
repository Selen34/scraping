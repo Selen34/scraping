{
 "cells": [
  {
   "cell_type": "code",
   "execution_count": 1,
   "metadata": {},
   "outputs": [],
   "source": [
    "from selenium import webdriver\n",
    "from selenium.webdriver.common.keys import Keys\n",
    "from selenium.webdriver.chrome.options import Options\n",
    "from selenium.webdriver.support.ui import WebDriverWait\n",
    "from selenium.webdriver.support import expected_conditions as EC\n",
    "from selenium.webdriver.common.by import By\n",
    "from selenium.webdriver.support.ui import Select"
   ]
  },
  {
   "cell_type": "code",
   "execution_count": 2,
   "metadata": {},
   "outputs": [],
   "source": [
    "from pymongo import MongoClient\n",
    "from pprint import pprint"
   ]
  },
  {
   "cell_type": "code",
   "execution_count": 3,
   "metadata": {},
   "outputs": [],
   "source": [
    "def initDB(name):\n",
    "    client = MongoClient('localhost', 27017)\n",
    "    return client[name]"
   ]
  },
  {
   "cell_type": "code",
   "execution_count": 4,
   "metadata": {},
   "outputs": [],
   "source": [
    "def saveRow(row, client):\n",
    "    collection = client['forex']\n",
    "    collection.insert_one(row)"
   ]
  },
  {
   "cell_type": "code",
   "execution_count": 5,
   "metadata": {},
   "outputs": [],
   "source": [
    "def printRows(client, limit=10):\n",
    "    collection = client['forex']\n",
    "    for item in collection.find().limit(limit):\n",
    "        pprint(item)"
   ]
  },
  {
   "cell_type": "code",
   "execution_count": 6,
   "metadata": {},
   "outputs": [],
   "source": [
    "def closeBanner(driver):\n",
    "    try:\n",
    "        banner = driver.find_element_by_class_name('popupCloseIcon')\n",
    "        banner.click()\n",
    "    except:\n",
    "        pass"
   ]
  },
  {
   "cell_type": "code",
   "execution_count": 7,
   "metadata": {},
   "outputs": [],
   "source": [
    "def setGMT(driver):\n",
    "    elem = driver.find_element_by_id('economicCurrentTime')\n",
    "    elem.click()\n",
    "    elem = driver.find_element_by_id('liTz197')\n",
    "    elem.click()"
   ]
  },
  {
   "cell_type": "code",
   "execution_count": 8,
   "metadata": {},
   "outputs": [],
   "source": [
    "def applyDate(driver, begin, end):\n",
    "    date_picker = driver.find_element_by_id('datePickerToggleBtn')\n",
    "    date_picker.click()\n",
    "    date_picker = driver.find_element_by_id('startDate')\n",
    "    date_picker.clear()\n",
    "    date_picker.send_keys(begin)\n",
    "    date_picker = driver.find_element_by_id('endDate')\n",
    "    date_picker.clear()\n",
    "    date_picker.send_keys(end)\n",
    "    date_picker = driver.find_element_by_id('applyBtn')\n",
    "    date_picker.click()"
   ]
  },
  {
   "cell_type": "code",
   "execution_count": 9,
   "metadata": {},
   "outputs": [],
   "source": [
    "def loadEvents(driver, client):\n",
    "    events = driver.find_elements_by_xpath(\"//tr[@class='js-event-item']\")\n",
    "    for event in events:\n",
    "        date = event.get_attribute('data-event-datetime')\n",
    "        country = event.find_element_by_xpath(\".//td[contains(@class,'flagCur')]/span\").get_attribute('title')\n",
    "        vol = event.find_element_by_xpath(\".//td[contains(@class,'textNum')]\").get_attribute('title')\n",
    "        act = event.find_element_by_xpath(\".//td[contains(@class,'act')]\").text\n",
    "        fore = event.find_element_by_xpath(\".//td[contains(@class,'fore')]\").text\n",
    "        prev = event.find_element_by_xpath(\".//td[contains(@class,'prev')]\").text\n",
    "        row = {'date': date, 'country': country, 'vol': vol, 'act': act, 'fore': fore, 'prev': prev}\n",
    "        saveRow(row, client)"
   ]
  },
  {
   "cell_type": "code",
   "execution_count": 10,
   "metadata": {},
   "outputs": [],
   "source": [
    "chrome_options = Options()\n",
    "#chrome_options.add_argument('start-maximized')\n",
    "chrome_options.add_argument('--headless')\n",
    "driver = webdriver.Chrome(options=chrome_options)\n",
    "driver.get('https://ru.investing.com/economic-calendar/')"
   ]
  },
  {
   "cell_type": "code",
   "execution_count": 11,
   "metadata": {},
   "outputs": [],
   "source": [
    "client = initDB('selenium')"
   ]
  },
  {
   "cell_type": "code",
   "execution_count": 12,
   "metadata": {},
   "outputs": [],
   "source": [
    "closeBanner(driver)\n",
    "setGMT(driver)"
   ]
  },
  {
   "cell_type": "code",
   "execution_count": 14,
   "metadata": {},
   "outputs": [],
   "source": [
    "# тут можно будет сделать генератор дат\n",
    "applyDate(driver, '01/03/1970', '28/03/1970')"
   ]
  },
  {
   "cell_type": "code",
   "execution_count": 17,
   "metadata": {},
   "outputs": [],
   "source": [
    "loadEvents(driver, client)"
   ]
  },
  {
   "cell_type": "code",
   "execution_count": 18,
   "metadata": {},
   "outputs": [
    {
     "name": "stdout",
     "output_type": "stream",
     "text": [
      "{'_id': ObjectId('5e2ccb713b3f21bfab553d56'),\n",
      " 'act': '1,80%',\n",
      " 'country': 'Великобритания',\n",
      " 'date': '1970/03/01 09:00:00',\n",
      " 'fore': ' ',\n",
      " 'prev': '-2,60%',\n",
      " 'vol': 'Умеренная волатильность'}\n",
      "{'_id': ObjectId('5e2ccb713b3f21bfab553d57'),\n",
      " 'act': '1,00%',\n",
      " 'country': 'Великобритания',\n",
      " 'date': '1970/03/01 09:00:00',\n",
      " 'fore': ' ',\n",
      " 'prev': '-0,40%',\n",
      " 'vol': 'Низкая волатильность'}\n",
      "{'_id': ObjectId('5e2ccb713b3f21bfab553d58'),\n",
      " 'act': '8,00%',\n",
      " 'country': 'Великобритания',\n",
      " 'date': '1970/03/01 09:00:00',\n",
      " 'fore': ' ',\n",
      " 'prev': '8,00%',\n",
      " 'vol': 'Высокая волатильность'}\n",
      "{'_id': ObjectId('5e2ccb723b3f21bfab553d59'),\n",
      " 'act': '1,60%',\n",
      " 'country': 'Великобритания',\n",
      " 'date': '1970/03/01 09:00:00',\n",
      " 'fore': ' ',\n",
      " 'prev': '-2,70%',\n",
      " 'vol': 'Высокая волатильность'}\n",
      "{'_id': ObjectId('5e2ccb723b3f21bfab553d5a'),\n",
      " 'act': '0,80%',\n",
      " 'country': 'Великобритания',\n",
      " 'date': '1970/03/01 09:00:00',\n",
      " 'fore': ' ',\n",
      " 'prev': '-0,70%',\n",
      " 'vol': 'Низкая волатильность'}\n",
      "{'_id': ObjectId('5e2ccb733b3f21bfab553d5b'),\n",
      " 'act': '0,70%',\n",
      " 'country': 'Великобритания',\n",
      " 'date': '1970/03/01 09:00:00',\n",
      " 'fore': ' ',\n",
      " 'prev': '1,30%',\n",
      " 'vol': 'Низкая волатильность'}\n",
      "{'_id': ObjectId('5e2ccb733b3f21bfab553d5c'),\n",
      " 'act': '4,80%',\n",
      " 'country': 'Великобритания',\n",
      " 'date': '1970/03/01 09:00:00',\n",
      " 'fore': ' ',\n",
      " 'prev': '4,80%',\n",
      " 'vol': 'Низкая волатильность'}\n",
      "{'_id': ObjectId('5e2ccb733b3f21bfab553d5d'),\n",
      " 'act': '0,50%',\n",
      " 'country': 'Великобритания',\n",
      " 'date': '1970/03/01 09:00:00',\n",
      " 'fore': ' ',\n",
      " 'prev': '0,80%',\n",
      " 'vol': 'Низкая волатильность'}\n",
      "{'_id': ObjectId('5e2ccb733b3f21bfab553d5e'),\n",
      " 'act': '4,90%',\n",
      " 'country': 'Великобритания',\n",
      " 'date': '1970/03/01 09:00:00',\n",
      " 'fore': ' ',\n",
      " 'prev': '5,00%',\n",
      " 'vol': 'Низкая волатильность'}\n",
      "{'_id': ObjectId('5e2ccb733b3f21bfab553d5f'),\n",
      " 'act': '0,02B',\n",
      " 'country': 'Великобритания',\n",
      " 'date': '1970/03/01 09:00:00',\n",
      " 'fore': ' ',\n",
      " 'prev': '0,03B',\n",
      " 'vol': 'Умеренная волатильность'}\n"
     ]
    }
   ],
   "source": [
    "printRows(client)"
   ]
  },
  {
   "cell_type": "code",
   "execution_count": 19,
   "metadata": {},
   "outputs": [],
   "source": [
    "driver.quit()"
   ]
  },
  {
   "cell_type": "code",
   "execution_count": null,
   "metadata": {},
   "outputs": [],
   "source": []
  }
 ],
 "metadata": {
  "kernelspec": {
   "display_name": "Python 3",
   "language": "python",
   "name": "python3"
  },
  "language_info": {
   "codemirror_mode": {
    "name": "ipython",
    "version": 3
   },
   "file_extension": ".py",
   "mimetype": "text/x-python",
   "name": "python",
   "nbconvert_exporter": "python",
   "pygments_lexer": "ipython3",
   "version": "3.7.3"
  }
 },
 "nbformat": 4,
 "nbformat_minor": 2
}
