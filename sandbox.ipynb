{
 "cells": [
  {
   "cell_type": "code",
   "execution_count": 1,
   "metadata": {},
   "outputs": [],
   "source": [
    "from bs4 import BeautifulSoup as bs\n",
    "from pymongo import MongoClient\n",
    "from hashlib import md5\n",
    "from lxml import html\n",
    "import requests\n",
    "import pprint\n",
    "import json\n",
    "import time\n",
    "import random\n",
    "import re"
   ]
  },
  {
   "cell_type": "code",
   "execution_count": 2,
   "metadata": {},
   "outputs": [],
   "source": [
    "def initDB(name):\n",
    "    client = MongoClient('localhost', 27017)\n",
    "    return client[name]\n",
    "\n",
    "def getHHSearchQuery(str):\n",
    "    return str.replace(\" \",'+')\n",
    "\n",
    "def getParsedRequest(url):\n",
    "    uagent = \"Mozilla/5.0 (Windows NT 10.0; Win64; x64) AppleWebKit/537.36 (KHTML, like Gecko) Chrome/79.0.3945.88 Safari/537.36\"\n",
    "    req = requests.get(url, headers = {'user-agent': uagent})\n",
    "    return bs(req.content, 'lxml')\n",
    "\n",
    "def getDataFromItem(item):\n",
    "    title = item.find('a', {'data-qa': 'vacancy-serp__vacancy-title'})\n",
    "    url = title['href']\n",
    "    page = getParsedRequest(url)\n",
    "    rawParams = page.find('script', {'data-name': 'HH/GoogleDfpService'})\n",
    "    params = json.loads(rawParams['data-params'])\n",
    "    minSalary = params['vac_salary_from']\n",
    "    try:\n",
    "        minSalary = int(minSalary)\n",
    "    except:\n",
    "        minSalary = None\n",
    "    maxSalary = params['vac_salary_to']\n",
    "    try:\n",
    "        maxSalary = int(maxSalary)\n",
    "    except:\n",
    "        maxSalary = None\n",
    "    curSalary = params['vac_salary_cur']\n",
    "    return { 'title': title.text, 'url': url, 'min': minSalary, 'max': maxSalary, 'cur': curSalary, 'site': 'hh.ru' }\n",
    "\n",
    "def getSJSearchQuery(str):\n",
    "    return str.replace(\" \",'%20')\n",
    "\n",
    "def dataFromSJItem(item):\n",
    "    url = item.find('a', {'class': 'icMQ_'})\n",
    "    url = url['href']\n",
    "    url = 'https://www.superjob.ru' + url\n",
    "    title = item.find('div', {'class': '_3mfro'}).text\n",
    "    page = getParsedRequest(url)\n",
    "    zp = page.find('span', {'class': '_2Wp8I'})\n",
    "    minZp = None\n",
    "    maxZp = None\n",
    "    cur = 'RUR'\n",
    "    if zp:\n",
    "        zp = zp.text.replace('\\xa0', '')\n",
    "        arr = re.findall(r'\\d+', zp)\n",
    "        if len(arr) == 1:\n",
    "            minZp = arr[0]\n",
    "        if len(arr) == 2:\n",
    "            minZp = min(arr)\n",
    "            maxZp = max(arr)\n",
    "    return { 'title': title, 'url': url, 'min': minZp, 'max': maxZp, 'cur': cur, 'site': 'superjob.ru'}\n",
    "\n",
    "def saveOrUpdate(row, client):\n",
    "    _md5 = md5(str(row).encode()).hexdigest()\n",
    "    _idh = md5(str(row['url']).encode()).hexdigest()\n",
    "    collection = row['site'].replace('.', '')\n",
    "    collection = client[collection]\n",
    "    exists = collection.find_one({'idh': _idh})\n",
    "    row['idh'] = _idh\n",
    "    row['md5'] = _md5\n",
    "    if exists:\n",
    "        if exists['md5'] != _md5:\n",
    "            collection.delete_one({'idh': _idh})\n",
    "            collection.insert_one(row)\n",
    "    else:\n",
    "        collection.insert_one(row)\n",
    "\n",
    "def searchAndPrint(salary, db, limit=10, asc=True):\n",
    "    plist = []\n",
    "    hh = db['hhru']\n",
    "    sjb = db['superjob.ru']\n",
    "    ihh = hh.find({'min': { '$gte': salary }}, {'_id': 0, 'idh': 0, 'md5': 0})\n",
    "    isj = sjb.find({'min': {'$gte': salary}}, {'_id': 0, 'idh': 0, 'md5': 0})\n",
    "    for item in ihh:\n",
    "        plist.append(item)\n",
    "    for item in isj:\n",
    "        plist.append(item)\n",
    "    plist = sorted(plist, key=lambda item: item['min'], reverse=not asc)\n",
    "    print('TOTAL:', len(plist))\n",
    "    i = 0\n",
    "    for item in plist:\n",
    "        if i > limit:\n",
    "            break\n",
    "        pprint.pprint(item)\n",
    "        i += 1\n",
    "\n",
    "def searchAndSave(inpName, db):\n",
    "    vacName = getHHSearchQuery(inpName)\n",
    "    count = 0\n",
    "    buttonNext = True\n",
    "    queryString = \"https://hh.ru/search/vacancy?L_is_autosearch=false&clusters=true&enable_snippets=true&text=\" + vacName\n",
    "    while buttonNext:\n",
    "        parsed = getParsedRequest(queryString)\n",
    "        vlist = parsed.find_all('div', {'class': 'vacancy-serp-item'})\n",
    "        for item in vlist:\n",
    "            time.sleep(random.randint(1, 2))\n",
    "            vacData = getDataFromItem(item)\n",
    "            saveOrUpdate(vacData, db)\n",
    "            count += 1\n",
    "        buttonNext = parsed.find('a', {'class': 'bloko-button HH-Pager-Controls-Next HH-Pager-Control'})\n",
    "        if buttonNext:\n",
    "            queryString = 'https://hh.ru' + buttonNext['href']\n",
    "        time.sleep(random.randint(1, 2))\n",
    "\n",
    "    vacName = getSJSearchQuery(inpName)\n",
    "    sjString = 'https://www.superjob.ru/vacancy/search/?geo%5Bc%5D%5B0%5D=1&keywords=' + vacName\n",
    "    buttonNext = True\n",
    "    while buttonNext:\n",
    "        parsed = getParsedRequest(sjString)\n",
    "        vlist = parsed.find_all('div', {'class': 'f-test-vacancy-item'})\n",
    "        for item in vlist:\n",
    "            time.sleep(random.randint(1, 2))\n",
    "            tmp = dataFromSJItem(item)\n",
    "            saveOrUpdate(tmp, db)\n",
    "            count += 1\n",
    "        buttonNext = parsed.find('a', {'rel': 'next'})\n",
    "        if buttonNext:\n",
    "            urlNext = buttonNext['href']\n",
    "            sjString = 'https://www.superjob.ru' + urlNext\n",
    "        time.sleep(random.randint(1, 2))\n",
    "    print('SAVE OR UPDATED:', count)"
   ]
  },
  {
   "cell_type": "code",
   "execution_count": 3,
   "metadata": {},
   "outputs": [],
   "source": [
    "#print('UPLOAD VACANCY:')\n",
    "#inpName = input()\n",
    "#db = initDB('vacancies')\n",
    "#searchAndSave(inpName, db)\n",
    "#print('SEARCH FOR SALARY:')\n",
    "#salary = input()\n",
    "#searchAndPrint(int(salary), db)"
   ]
  },
  {
   "cell_type": "code",
   "execution_count": 4,
   "metadata": {},
   "outputs": [],
   "source": [
    "def getRoot(url):\n",
    "    uagent = \"Mozilla/5.0 (Windows NT 10.0; Win64; x64) AppleWebKit/537.36 (KHTML, like Gecko) Chrome/79.0.3945.88 Safari/537.36\"\n",
    "    root = None\n",
    "    try:\n",
    "        root = html.fromstring(requests.get(url, headers = {'user-agent': uagent}).text)\n",
    "    except Exception as e:\n",
    "        print(e)\n",
    "    return root"
   ]
  },
  {
   "cell_type": "code",
   "execution_count": 38,
   "metadata": {},
   "outputs": [],
   "source": [
    "main = getRoot('https://www.superjob.ru/vacancy/search/?geo%5Bc%5D%5B0%5D=1&keywords=python')"
   ]
  },
  {
   "cell_type": "code",
   "execution_count": 39,
   "metadata": {},
   "outputs": [
    {
     "data": {
      "text/plain": [
       "'/vacancy/search/?geo%5Bc%5D%5B0%5D=1&keywords=python&page=2'"
      ]
     },
     "execution_count": 39,
     "metadata": {},
     "output_type": "execute_result"
    }
   ],
   "source": [
    "nextpage = main.cssselect('a.f-test-button-dalshe')\n",
    "# nextpage[0].get('href')\n",
    "nextpage[0].attrib['href']"
   ]
  },
  {
   "cell_type": "code",
   "execution_count": 45,
   "metadata": {},
   "outputs": [
    {
     "data": {
      "text/plain": [
       "20"
      ]
     },
     "execution_count": 45,
     "metadata": {},
     "output_type": "execute_result"
    }
   ],
   "source": [
    "#icMQ_ _1QIBo f-test-link-Testirovschik_PO _2JivQ _3dPok\n",
    "vacancies = main.cssselect('div.f-test-vacancy-item a._1QIBo')\n",
    "len(vacancies)"
   ]
  },
  {
   "cell_type": "code",
   "execution_count": 59,
   "metadata": {},
   "outputs": [],
   "source": [
    "page = getRoot('https://www.superjob.ru/vakansii/programmist-ios-33142847.html')"
   ]
  },
  {
   "cell_type": "code",
   "execution_count": 71,
   "metadata": {},
   "outputs": [
    {
     "data": {
      "text/plain": [
       "1"
      ]
     },
     "execution_count": 71,
     "metadata": {},
     "output_type": "execute_result"
    }
   ],
   "source": [
    "salary = page.cssselect('span._2Wp8I ')\n",
    "len(title)"
   ]
  },
  {
   "cell_type": "code",
   "execution_count": 72,
   "metadata": {},
   "outputs": [
    {
     "data": {
      "text/plain": [
       "'от\\xa095\\xa0000\\xa0₽'"
      ]
     },
     "execution_count": 72,
     "metadata": {},
     "output_type": "execute_result"
    }
   ],
   "source": [
    "salary[0].text_content()"
   ]
  },
  {
   "cell_type": "code",
   "execution_count": 68,
   "metadata": {},
   "outputs": [],
   "source": [
    "sp = page.xpath(\"//span[contains(@class, '_2Wp8I')]\")"
   ]
  },
  {
   "cell_type": "code",
   "execution_count": 70,
   "metadata": {},
   "outputs": [
    {
     "data": {
      "text/plain": [
       "'от\\xa095\\xa0000\\xa0₽'"
      ]
     },
     "execution_count": 70,
     "metadata": {},
     "output_type": "execute_result"
    }
   ],
   "source": [
    "sp[0].text_content()"
   ]
  },
  {
   "cell_type": "code",
   "execution_count": 77,
   "metadata": {},
   "outputs": [
    {
     "data": {
      "text/plain": [
       "'12213221312'"
      ]
     },
     "execution_count": 77,
     "metadata": {},
     "output_type": "execute_result"
    }
   ],
   "source": [
    "a = ['12', '2132', '21312']\n",
    "s = \"\"\n",
    "s.join(a)"
   ]
  },
  {
   "cell_type": "code",
   "execution_count": null,
   "metadata": {},
   "outputs": [],
   "source": []
  }
 ],
 "metadata": {
  "kernelspec": {
   "display_name": "Python 3",
   "language": "python",
   "name": "python3"
  },
  "language_info": {
   "codemirror_mode": {
    "name": "ipython",
    "version": 3
   },
   "file_extension": ".py",
   "mimetype": "text/x-python",
   "name": "python",
   "nbconvert_exporter": "python",
   "pygments_lexer": "ipython3",
   "version": "3.7.3"
  }
 },
 "nbformat": 4,
 "nbformat_minor": 2
}
